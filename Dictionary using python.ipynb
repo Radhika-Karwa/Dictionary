{
 "cells": [
  {
   "cell_type": "markdown",
   "metadata": {},
   "source": [
    "## Import Libraries"
   ]
  },
  {
   "cell_type": "code",
   "execution_count": 2,
   "metadata": {},
   "outputs": [],
   "source": [
    "import json\n",
    "from difflib import get_close_matches"
   ]
  },
  {
   "cell_type": "code",
   "execution_count": 3,
   "metadata": {},
   "outputs": [],
   "source": [
    "data= json.load(open(\"data.json\"))"
   ]
  },
  {
   "cell_type": "markdown",
   "metadata": {},
   "source": [
    "## Function for Dictionary"
   ]
  },
  {
   "cell_type": "code",
   "execution_count": 4,
   "metadata": {},
   "outputs": [],
   "source": [
    "def translate(value):\n",
    "    value=value.lower()\n",
    "    if value in data:\n",
    "            return data[value]\n",
    "    elif value.title() in data:\n",
    "        return data[value.title()]\n",
    "    elif value.upper() in data:\n",
    "        return data[value.upper()]\n",
    "    elif len(get_close_matches(value,data.keys())) > 0:\n",
    "              yn= input(\"Did you mean %s instead Enter Y if yes or N if no\" %get_close_matches(value,data.keys())[0])\n",
    "              if yn=='Y':\n",
    "                return data[get_close_matches(value,data.keys())[0]]\n",
    "              elif yn=='N':\n",
    "                return \"Word does'nt exit.Please double check it\"\n",
    "              else:\n",
    "                return \"We did'nt understand your query. Please double check it\"   \n",
    "    else:\n",
    "            return \"The word does'nt exit.Please double check it\""
   ]
  },
  {
   "cell_type": "markdown",
   "metadata": {},
   "source": [
    "## Enter Input"
   ]
  },
  {
   "cell_type": "code",
   "execution_count": 5,
   "metadata": {},
   "outputs": [
    {
     "name": "stdout",
     "output_type": "stream",
     "text": [
      "Enter word:Calculate\n"
     ]
    }
   ],
   "source": [
    "word= input(\"Enter word:\")"
   ]
  },
  {
   "cell_type": "markdown",
   "metadata": {},
   "source": [
    "## Output"
   ]
  },
  {
   "cell_type": "code",
   "execution_count": 6,
   "metadata": {},
   "outputs": [
    {
     "name": "stdout",
     "output_type": "stream",
     "text": [
      "['To keep an account of.', 'To make a mathematical calculation or computation.']\n"
     ]
    }
   ],
   "source": [
    "print(translate(word))"
   ]
  }
 ],
 "metadata": {
  "kernelspec": {
   "display_name": "Python 3",
   "language": "python",
   "name": "python3"
  },
  "language_info": {
   "codemirror_mode": {
    "name": "ipython",
    "version": 3
   },
   "file_extension": ".py",
   "mimetype": "text/x-python",
   "name": "python",
   "nbconvert_exporter": "python",
   "pygments_lexer": "ipython3",
   "version": "3.8.5"
  }
 },
 "nbformat": 4,
 "nbformat_minor": 2
}
